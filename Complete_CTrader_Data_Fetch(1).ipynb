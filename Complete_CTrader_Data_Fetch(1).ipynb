{
  "cells": [
    {
      "cell_type": "markdown",
      "id": "59775847",
      "metadata": {
        "id": "59775847"
      },
      "source": [
        "### نصب کتابخانه‌ها و پیش‌نیازها\n",
        "در این بخش:\n",
        "1. کتابخانه‌های موردنیاز برای اجرای کد نصب می‌شوند.\n",
        "2. ابزارهای سیستمی به‌روزرسانی می‌شوند (مانند pip).\n",
        "3. کتابخانه OpenApiPy برای ارتباط با cTrader دانلود و نصب می‌شود.\n"
      ]
    },
    {
      "cell_type": "code",
      "execution_count": null,
      "id": "86b30011",
      "metadata": {
        "colab": {
          "base_uri": "https://localhost:8080/",
          "height": 1000
        },
        "id": "86b30011",
        "outputId": "db7cd58b-f8ef-42b1-b5a6-592553fdee6a"
      },
      "outputs": [
        {
          "output_type": "stream",
          "name": "stdout",
          "text": [
            "Requirement already satisfied: pip in /usr/local/lib/python3.11/dist-packages (24.3.1)\n",
            "Requirement already satisfied: setuptools in /usr/local/lib/python3.11/dist-packages (75.8.0)\n",
            "Requirement already satisfied: wheel in /usr/local/lib/python3.11/dist-packages (0.45.1)\n",
            "Collecting git+https://github.com/spotware/OpenApiPy.git\n",
            "  Cloning https://github.com/spotware/OpenApiPy.git to /tmp/pip-req-build-d9jfe_iw\n",
            "  Running command git clone --filter=blob:none --quiet https://github.com/spotware/OpenApiPy.git /tmp/pip-req-build-d9jfe_iw\n",
            "  Resolved https://github.com/spotware/OpenApiPy.git to commit e944996e6fe9436b8b4a1b668da4ac41a826bb85\n",
            "  Installing build dependencies ... \u001b[?25l\u001b[?25hdone\n",
            "  Getting requirements to build wheel ... \u001b[?25l\u001b[?25hdone\n",
            "  Preparing metadata (pyproject.toml) ... \u001b[?25l\u001b[?25hdone\n",
            "Collecting Twisted==24.3.0 (from ctrader_open_api==0.0.0)\n",
            "  Downloading twisted-24.3.0-py3-none-any.whl.metadata (9.5 kB)\n",
            "Collecting inputimeout==1.0.4 (from ctrader_open_api==0.0.0)\n",
            "  Downloading inputimeout-1.0.4-py3-none-any.whl.metadata (2.2 kB)\n",
            "Collecting protobuf==3.20.1 (from ctrader_open_api==0.0.0)\n",
            "  Downloading protobuf-3.20.1-py2.py3-none-any.whl.metadata (720 bytes)\n",
            "Collecting pyOpenSSL==24.1.0 (from ctrader_open_api==0.0.0)\n",
            "  Downloading pyOpenSSL-24.1.0-py3-none-any.whl.metadata (12 kB)\n",
            "Requirement already satisfied: requests==2.32.3 in /usr/local/lib/python3.11/dist-packages (from ctrader_open_api==0.0.0) (2.32.3)\n",
            "Collecting cryptography<43,>=41.0.5 (from pyOpenSSL==24.1.0->ctrader_open_api==0.0.0)\n",
            "  Downloading cryptography-42.0.8-cp39-abi3-manylinux_2_28_x86_64.whl.metadata (5.3 kB)\n",
            "Requirement already satisfied: charset-normalizer<4,>=2 in /usr/local/lib/python3.11/dist-packages (from requests==2.32.3->ctrader_open_api==0.0.0) (3.4.1)\n",
            "Requirement already satisfied: idna<4,>=2.5 in /usr/local/lib/python3.11/dist-packages (from requests==2.32.3->ctrader_open_api==0.0.0) (3.10)\n",
            "Requirement already satisfied: urllib3<3,>=1.21.1 in /usr/local/lib/python3.11/dist-packages (from requests==2.32.3->ctrader_open_api==0.0.0) (2.3.0)\n",
            "Requirement already satisfied: certifi>=2017.4.17 in /usr/local/lib/python3.11/dist-packages (from requests==2.32.3->ctrader_open_api==0.0.0) (2024.12.14)\n",
            "Requirement already satisfied: attrs>=21.3.0 in /usr/local/lib/python3.11/dist-packages (from Twisted==24.3.0->ctrader_open_api==0.0.0) (24.3.0)\n",
            "Collecting automat>=0.8.0 (from Twisted==24.3.0->ctrader_open_api==0.0.0)\n",
            "  Downloading Automat-24.8.1-py3-none-any.whl.metadata (8.4 kB)\n",
            "Collecting constantly>=15.1 (from Twisted==24.3.0->ctrader_open_api==0.0.0)\n",
            "  Downloading constantly-23.10.4-py3-none-any.whl.metadata (1.8 kB)\n",
            "Collecting hyperlink>=17.1.1 (from Twisted==24.3.0->ctrader_open_api==0.0.0)\n",
            "  Downloading hyperlink-21.0.0-py2.py3-none-any.whl.metadata (1.5 kB)\n",
            "Collecting incremental>=22.10.0 (from Twisted==24.3.0->ctrader_open_api==0.0.0)\n",
            "  Downloading incremental-24.7.2-py3-none-any.whl.metadata (8.1 kB)\n",
            "Requirement already satisfied: typing-extensions>=4.2.0 in /usr/local/lib/python3.11/dist-packages (from Twisted==24.3.0->ctrader_open_api==0.0.0) (4.12.2)\n",
            "Collecting zope-interface>=5 (from Twisted==24.3.0->ctrader_open_api==0.0.0)\n",
            "  Downloading zope.interface-7.2-cp311-cp311-manylinux_2_5_x86_64.manylinux1_x86_64.manylinux_2_17_x86_64.manylinux2014_x86_64.whl.metadata (44 kB)\n",
            "Requirement already satisfied: cffi>=1.12 in /usr/local/lib/python3.11/dist-packages (from cryptography<43,>=41.0.5->pyOpenSSL==24.1.0->ctrader_open_api==0.0.0) (1.17.1)\n",
            "Requirement already satisfied: setuptools>=61.0 in /usr/local/lib/python3.11/dist-packages (from incremental>=22.10.0->Twisted==24.3.0->ctrader_open_api==0.0.0) (75.8.0)\n",
            "Requirement already satisfied: pycparser in /usr/local/lib/python3.11/dist-packages (from cffi>=1.12->cryptography<43,>=41.0.5->pyOpenSSL==24.1.0->ctrader_open_api==0.0.0) (2.22)\n",
            "Downloading inputimeout-1.0.4-py3-none-any.whl (4.6 kB)\n",
            "Downloading protobuf-3.20.1-py2.py3-none-any.whl (162 kB)\n",
            "Downloading pyOpenSSL-24.1.0-py3-none-any.whl (56 kB)\n",
            "Downloading twisted-24.3.0-py3-none-any.whl (3.2 MB)\n",
            "\u001b[2K   \u001b[90m━━━━━━━━━━━━━━━━━━━━━━━━━━━━━━━━━━━━━━━━\u001b[0m \u001b[32m3.2/3.2 MB\u001b[0m \u001b[31m44.7 MB/s\u001b[0m eta \u001b[36m0:00:00\u001b[0m\n",
            "\u001b[?25hDownloading Automat-24.8.1-py3-none-any.whl (42 kB)\n",
            "Downloading constantly-23.10.4-py3-none-any.whl (13 kB)\n",
            "Downloading cryptography-42.0.8-cp39-abi3-manylinux_2_28_x86_64.whl (3.9 MB)\n",
            "\u001b[2K   \u001b[90m━━━━━━━━━━━━━━━━━━━━━━━━━━━━━━━━━━━━━━━━\u001b[0m \u001b[32m3.9/3.9 MB\u001b[0m \u001b[31m79.4 MB/s\u001b[0m eta \u001b[36m0:00:00\u001b[0m\n",
            "\u001b[?25hDownloading hyperlink-21.0.0-py2.py3-none-any.whl (74 kB)\n",
            "Downloading incremental-24.7.2-py3-none-any.whl (20 kB)\n",
            "Downloading zope.interface-7.2-cp311-cp311-manylinux_2_5_x86_64.manylinux1_x86_64.manylinux_2_17_x86_64.manylinux2014_x86_64.whl (259 kB)\n",
            "Building wheels for collected packages: ctrader_open_api\n",
            "  Building wheel for ctrader_open_api (pyproject.toml) ... \u001b[?25l\u001b[?25hdone\n",
            "  Created wheel for ctrader_open_api: filename=ctrader_open_api-0.0.0-py3-none-any.whl size=23498 sha256=4c2c080775aff503796b970f9bf59c69c6f476845a3aa95d0d35c2f129ca7adf\n",
            "  Stored in directory: /tmp/pip-ephem-wheel-cache-m3vbnt4n/wheels/f4/d1/91/fe83776459d0c2793c7be278b2ffd9314eb313053519099a6e\n",
            "Successfully built ctrader_open_api\n",
            "Installing collected packages: zope-interface, protobuf, inputimeout, incremental, hyperlink, constantly, automat, Twisted, cryptography, pyOpenSSL, ctrader_open_api\n",
            "  Attempting uninstall: protobuf\n",
            "    Found existing installation: protobuf 4.25.5\n",
            "    Uninstalling protobuf-4.25.5:\n",
            "      Successfully uninstalled protobuf-4.25.5\n",
            "  Attempting uninstall: cryptography\n",
            "    Found existing installation: cryptography 43.0.3\n",
            "    Uninstalling cryptography-43.0.3:\n",
            "      Successfully uninstalled cryptography-43.0.3\n",
            "  Attempting uninstall: pyOpenSSL\n",
            "    Found existing installation: pyOpenSSL 24.2.1\n",
            "    Uninstalling pyOpenSSL-24.2.1:\n",
            "      Successfully uninstalled pyOpenSSL-24.2.1\n",
            "\u001b[31mERROR: pip's dependency resolver does not currently take into account all the packages that are installed. This behaviour is the source of the following dependency conflicts.\n",
            "google-cloud-datastore 2.20.2 requires protobuf!=3.20.0,!=3.20.1,!=4.21.0,!=4.21.1,!=4.21.2,!=4.21.3,!=4.21.4,!=4.21.5,<6.0.0dev,>=3.20.2, but you have protobuf 3.20.1 which is incompatible.\n",
            "google-cloud-functions 1.19.0 requires protobuf!=4.21.0,!=4.21.1,!=4.21.2,!=4.21.3,!=4.21.4,!=4.21.5,<6.0.0dev,>=3.20.2, but you have protobuf 3.20.1 which is incompatible.\n",
            "google-cloud-bigquery-connection 1.17.0 requires protobuf!=4.21.0,!=4.21.1,!=4.21.2,!=4.21.3,!=4.21.4,!=4.21.5,<6.0.0dev,>=3.20.2, but you have protobuf 3.20.1 which is incompatible.\n",
            "google-cloud-bigtable 2.28.0 requires protobuf!=4.21.0,!=4.21.1,!=4.21.2,!=4.21.3,!=4.21.4,!=4.21.5,<6.0.0dev,>=3.20.2, but you have protobuf 3.20.1 which is incompatible.\n",
            "googleapis-common-protos 1.66.0 requires protobuf!=3.20.0,!=3.20.1,!=4.21.1,!=4.21.2,!=4.21.3,!=4.21.4,!=4.21.5,<6.0.0.dev0,>=3.20.2, but you have protobuf 3.20.1 which is incompatible.\n",
            "google-cloud-firestore 2.19.0 requires protobuf!=3.20.0,!=3.20.1,!=4.21.0,!=4.21.1,!=4.21.2,!=4.21.3,!=4.21.4,!=4.21.5,<6.0.0dev,>=3.20.2, but you have protobuf 3.20.1 which is incompatible.\n",
            "google-cloud-iam 2.17.0 requires protobuf!=4.21.0,!=4.21.1,!=4.21.2,!=4.21.3,!=4.21.4,!=4.21.5,<6.0.0dev,>=3.20.2, but you have protobuf 3.20.1 which is incompatible.\n",
            "google-cloud-language 2.16.0 requires protobuf!=4.21.0,!=4.21.1,!=4.21.2,!=4.21.3,!=4.21.4,!=4.21.5,<6.0.0dev,>=3.20.2, but you have protobuf 3.20.1 which is incompatible.\n",
            "google-cloud-pubsub 2.27.2 requires protobuf!=4.21.0,!=4.21.1,!=4.21.2,!=4.21.3,!=4.21.4,!=4.21.5,<6.0.0dev,>=3.20.2, but you have protobuf 3.20.1 which is incompatible.\n",
            "google-cloud-resource-manager 1.14.0 requires protobuf!=4.21.0,!=4.21.1,!=4.21.2,!=4.21.3,!=4.21.4,!=4.21.5,<6.0.0dev,>=3.20.2, but you have protobuf 3.20.1 which is incompatible.\n",
            "google-ai-generativelanguage 0.6.10 requires protobuf!=4.21.0,!=4.21.1,!=4.21.2,!=4.21.3,!=4.21.4,!=4.21.5,<6.0.0dev,>=3.20.2, but you have protobuf 3.20.1 which is incompatible.\n",
            "grpc-google-iam-v1 0.14.0 requires protobuf!=4.21.1,!=4.21.2,!=4.21.3,!=4.21.4,!=4.21.5,<6.0.0dev,>=3.20.2, but you have protobuf 3.20.1 which is incompatible.\n",
            "tensorflow-metadata 1.16.1 requires protobuf<6.0.0dev,>=4.25.2; python_version >= \"3.11\", but you have protobuf 3.20.1 which is incompatible.\n",
            "google-cloud-bigquery-storage 2.27.0 requires protobuf!=3.20.0,!=3.20.1,!=4.21.0,!=4.21.1,!=4.21.2,!=4.21.3,!=4.21.4,!=4.21.5,<6.0.0dev,>=3.20.2, but you have protobuf 3.20.1 which is incompatible.\n",
            "google-api-core 2.19.2 requires protobuf!=3.20.0,!=3.20.1,!=4.21.0,!=4.21.1,!=4.21.2,!=4.21.3,!=4.21.4,!=4.21.5,<6.0.0.dev0,>=3.19.5, but you have protobuf 3.20.1 which is incompatible.\n",
            "grpcio-status 1.62.3 requires protobuf>=4.21.6, but you have protobuf 3.20.1 which is incompatible.\n",
            "google-cloud-translate 3.19.0 requires protobuf!=4.21.0,!=4.21.1,!=4.21.2,!=4.21.3,!=4.21.4,!=4.21.5,<6.0.0dev,>=3.20.2, but you have protobuf 3.20.1 which is incompatible.\n",
            "tensorflow 2.17.1 requires protobuf!=4.21.0,!=4.21.1,!=4.21.2,!=4.21.3,!=4.21.4,!=4.21.5,<5.0.0dev,>=3.20.3, but you have protobuf 3.20.1 which is incompatible.\n",
            "google-cloud-aiplatform 1.74.0 requires protobuf!=4.21.0,!=4.21.1,!=4.21.2,!=4.21.3,!=4.21.4,!=4.21.5,<6.0.0dev,>=3.20.2, but you have protobuf 3.20.1 which is incompatible.\u001b[0m\u001b[31m\n",
            "\u001b[0mSuccessfully installed Twisted-24.3.0 automat-24.8.1 constantly-23.10.4 cryptography-42.0.8 ctrader_open_api-0.0.0 hyperlink-21.0.0 incremental-24.7.2 inputimeout-1.0.4 protobuf-3.20.1 pyOpenSSL-24.1.0 zope-interface-7.2\n"
          ]
        },
        {
          "output_type": "display_data",
          "data": {
            "application/vnd.colab-display-data+json": {
              "pip_warning": {
                "packages": [
                  "google"
                ]
              },
              "id": "4aae4ba444d04bdfb5363473a4d1b78c"
            }
          },
          "metadata": {}
        },
        {
          "output_type": "stream",
          "name": "stdout",
          "text": [
            "Requirement already satisfied: protobuf in /usr/local/lib/python3.11/dist-packages (3.20.1)\n"
          ]
        }
      ],
      "source": [
        "# نصب و به‌روزرسانی ابزارها و کتابخانه‌ها\n",
        "!pip install --upgrade pip setuptools wheel\n",
        "!pip install git+https://github.com/spotware/OpenApiPy.git\n",
        "!pip install protobuf\n"
      ]
    },
    {
      "cell_type": "markdown",
      "id": "94e6d485",
      "metadata": {
        "id": "94e6d485"
      },
      "source": [
        "### وارد کردن کتابخانه‌ها\n",
        "در این بخش، کتابخانه‌های نصب‌شده به همراه ابزارهای موردنیاز برای مدیریت زمان و فایل‌ها وارد می‌شوند.\n"
      ]
    },
    {
      "cell_type": "code",
      "execution_count": null,
      "id": "d1d82bb5",
      "metadata": {
        "colab": {
          "base_uri": "https://localhost:8080/"
        },
        "id": "d1d82bb5",
        "outputId": "e1281887-b87c-4151-fe16-724dc8d36440"
      },
      "outputs": [
        {
          "output_type": "stream",
          "name": "stderr",
          "text": [
            ":0: UserWarning: You do not have a working installation of the service_identity module: 'No module named 'service_identity''.  Please install it from <https://pypi.python.org/pypi/service_identity> and make sure all of its dependencies are satisfied.  Without the service_identity module, Twisted can perform only rudimentary TLS client hostname verification.  Many valid certificate/hostname mappings may be rejected.\n"
          ]
        }
      ],
      "source": [
        "# وارد کردن کتابخانه‌های لازم\n",
        "from ctrader_open_api import Client\n",
        "import json\n",
        "from datetime import datetime\n"
      ]
    },
    {
      "cell_type": "markdown",
      "id": "e1d61d9d",
      "metadata": {
        "id": "e1d61d9d"
      },
      "source": [
        "### تعریف توابع اصلی\n",
        "این توابع شامل موارد زیر هستند:\n",
        "1. **initialize_client**: برای ایجاد اتصال به API.\n",
        "2. **fetch_ohlc**: برای دریافت داده‌های OHLC (Open, High, Low, Close) و حجم معاملات.\n",
        "3. **fetch_market_depth**: برای دریافت داده‌های عمق بازار.\n",
        "4. **save_to_json**: برای ذخیره داده‌ها در فایل JSON.\n"
      ]
    },
    {
      "cell_type": "code",
      "execution_count": null,
      "id": "bde00221",
      "metadata": {
        "id": "bde00221"
      },
      "outputs": [],
      "source": [
        "# تعریف توابع اصلی\n",
        "def initialize_client(client_id, client_secret):\n",
        "    \"\"\"\n",
        "    ایجاد اتصال به API با استفاده از اطلاعات احراز هویت.\n",
        "    \"\"\"\n",
        "    client = Client(client_id=client_id, client_secret=client_secret)\n",
        "    print(\"✅ اتصال به cTrader برقرار شد.\")\n",
        "    return client\n",
        "\n",
        "def fetch_ohlc(client, symbol, timeframe, start_time, end_time):\n",
        "    \"\"\"\n",
        "    دریافت داده‌های OHLC به همراه حجم معاملات.\n",
        "    \"\"\"\n",
        "    print(f\"📥 دریافت داده‌های OHLC برای {symbol} در تایم‌فریم {timeframe}...\")\n",
        "    ohlc_data = client.get_candles(symbol=symbol, timeframe=timeframe, start=start_time, end=end_time)\n",
        "    print(f\"✅ {len(ohlc_data)} کندل دریافت شد.\")\n",
        "    return ohlc_data\n",
        "\n",
        "def fetch_market_depth(client, symbol):\n",
        "    \"\"\"\n",
        "    دریافت داده‌های عمق بازار.\n",
        "    \"\"\"\n",
        "    print(f\"📥 دریافت داده‌های عمق بازار برای {symbol}...\")\n",
        "    market_depth = client.get_market_depth(symbol=symbol)\n",
        "    print(\"✅ داده‌های عمق بازار دریافت شد.\")\n",
        "    return market_depth\n",
        "\n",
        "def save_to_json(data, filename):\n",
        "    \"\"\"\n",
        "    ذخیره داده‌ها در فایل JSON.\n",
        "    \"\"\"\n",
        "    with open(filename, 'w') as json_file:\n",
        "        json.dump(data, json_file, indent=4)\n",
        "    print(f\"✅ داده‌ها با موفقیت در فایل {filename} ذخیره شدند.\")\n"
      ]
    },
    {
      "cell_type": "markdown",
      "id": "3b740937",
      "metadata": {
        "id": "3b740937"
      },
      "source": [
        "### اجرای اصلی\n",
        "در این بخش:\n",
        "1. اتصال به API با استفاده از Client ID و Secret.\n",
        "2. دریافت داده‌های OHLC و عمق بازار در تایم‌فریم‌های مختلف.\n",
        "3. ذخیره داده‌ها به صورت ساختار‌یافته در فایل JSON.\n"
      ]
    },
    {
      "cell_type": "code",
      "execution_count": null,
      "id": "2e401e2c",
      "metadata": {
        "colab": {
          "base_uri": "https://localhost:8080/",
          "height": 1000
        },
        "id": "2e401e2c",
        "outputId": "44400828-477e-4e27-bc33-4137616b40ca"
      },
      "outputs": [
        {
          "output_type": "error",
          "ename": "TypeError",
          "evalue": "Client.__init__() got an unexpected keyword argument 'client_id'",
          "traceback": [
            "\u001b[0;31m---------------------------------------------------------------------------\u001b[0m",
            "\u001b[0;31mTypeError\u001b[0m                                 Traceback (most recent call last)",
            "\u001b[0;32m<ipython-input-7-22cd5ecaa7cf>\u001b[0m in \u001b[0;36m<cell line: 0>\u001b[0;34m()\u001b[0m\n\u001b[1;32m     12\u001b[0m \u001b[0;34m\u001b[0m\u001b[0m\n\u001b[1;32m     13\u001b[0m     \u001b[0;31m# ایجاد اتصال به API\u001b[0m\u001b[0;34m\u001b[0m\u001b[0;34m\u001b[0m\u001b[0m\n\u001b[0;32m---> 14\u001b[0;31m     \u001b[0mclient\u001b[0m \u001b[0;34m=\u001b[0m \u001b[0minitialize_client\u001b[0m\u001b[0;34m(\u001b[0m\u001b[0mclient_id\u001b[0m\u001b[0;34m,\u001b[0m \u001b[0mclient_secret\u001b[0m\u001b[0;34m)\u001b[0m\u001b[0;34m\u001b[0m\u001b[0;34m\u001b[0m\u001b[0m\n\u001b[0m\u001b[1;32m     15\u001b[0m \u001b[0;34m\u001b[0m\u001b[0m\n\u001b[1;32m     16\u001b[0m     \u001b[0;31m# دریافت داده‌ها\u001b[0m\u001b[0;34m\u001b[0m\u001b[0;34m\u001b[0m\u001b[0m\n",
            "\u001b[0;32m<ipython-input-6-5e2a89d6d128>\u001b[0m in \u001b[0;36minitialize_client\u001b[0;34m(client_id, client_secret)\u001b[0m\n\u001b[1;32m      4\u001b[0m     \u001b[0mایجاد\u001b[0m \u001b[0mاتصال\u001b[0m \u001b[0mبه\u001b[0m \u001b[0mAPI\u001b[0m \u001b[0mبا\u001b[0m \u001b[0mاستفاده\u001b[0m \u001b[0mاز\u001b[0m \u001b[0mاطلاعات\u001b[0m \u001b[0mاحراز\u001b[0m \u001b[0mهویت\u001b[0m\u001b[0;34m.\u001b[0m\u001b[0;34m\u001b[0m\u001b[0;34m\u001b[0m\u001b[0m\n\u001b[1;32m      5\u001b[0m     \"\"\"\n\u001b[0;32m----> 6\u001b[0;31m     \u001b[0mclient\u001b[0m \u001b[0;34m=\u001b[0m \u001b[0mClient\u001b[0m\u001b[0;34m(\u001b[0m\u001b[0mclient_id\u001b[0m\u001b[0;34m=\u001b[0m\u001b[0mclient_id\u001b[0m\u001b[0;34m,\u001b[0m \u001b[0mclient_secret\u001b[0m\u001b[0;34m=\u001b[0m\u001b[0mclient_secret\u001b[0m\u001b[0;34m)\u001b[0m\u001b[0;34m\u001b[0m\u001b[0;34m\u001b[0m\u001b[0m\n\u001b[0m\u001b[1;32m      7\u001b[0m     \u001b[0mprint\u001b[0m\u001b[0;34m(\u001b[0m\u001b[0;34m\"✅ اتصال به cTrader برقرار شد.\"\u001b[0m\u001b[0;34m)\u001b[0m\u001b[0;34m\u001b[0m\u001b[0;34m\u001b[0m\u001b[0m\n\u001b[1;32m      8\u001b[0m     \u001b[0;32mreturn\u001b[0m \u001b[0mclient\u001b[0m\u001b[0;34m\u001b[0m\u001b[0;34m\u001b[0m\u001b[0m\n",
            "\u001b[0;31mTypeError\u001b[0m: Client.__init__() got an unexpected keyword argument 'client_id'"
          ]
        }
      ],
      "source": [
        "# اجرای اصلی\n",
        "if __name__ == \"__main__\":\n",
        "    # اطلاعات احراز هویت (از حساب cTrader خود دریافت کنید)\n",
        "    client_id = \"your_client_id\"\n",
        "    client_secret = \"your_client_secret\"\n",
        "\n",
        "    # تنظیمات دریافت داده\n",
        "    symbol = \"EURUSD\"\n",
        "    timeframes = [\"1m\", \"5m\", \"1h\"]  # تایم‌فریم‌های مختلف\n",
        "    start_time = \"2025-01-21T00:00:00Z\"  # زمان شروع\n",
        "    end_time = \"2025-01-21T23:59:59Z\"    # زمان پایان\n",
        "\n",
        "    # ایجاد اتصال به API\n",
        "    client = initialize_client(client_id, client_secret)\n",
        "\n",
        "    # دریافت داده‌ها\n",
        "    final_data = {\"symbol\": symbol, \"data\": []}\n",
        "    for timeframe in timeframes:\n",
        "        # دریافت OHLC\n",
        "        ohlc_data = fetch_ohlc(client, symbol, timeframe, start_time, end_time)\n",
        "\n",
        "        # دریافت عمق بازار\n",
        "        market_depth = fetch_market_depth(client, symbol)\n",
        "\n",
        "        # افزودن به ساختار داده‌ها\n",
        "        final_data[\"data\"].append({\n",
        "            \"timeframe\": timeframe,\n",
        "            \"ohlc\": ohlc_data,\n",
        "            \"market_depth\": market_depth\n",
        "        })\n",
        "\n",
        "    # ذخیره داده‌ها در فایل JSON\n",
        "    filename = f\"market_data_{datetime.now().strftime('%Y%m%d_%H%M%S')}.json\"\n",
        "    save_to_json(final_data, filename)\n"
      ]
    }
  ],
  "metadata": {
    "colab": {
      "provenance": []
    },
    "language_info": {
      "name": "python"
    },
    "kernelspec": {
      "name": "python3",
      "display_name": "Python 3"
    }
  },
  "nbformat": 4,
  "nbformat_minor": 5
}